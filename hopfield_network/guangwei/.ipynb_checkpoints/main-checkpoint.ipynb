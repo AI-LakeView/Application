{
 "cells": [
  {
   "cell_type": "code",
   "execution_count": 24,
   "metadata": {},
   "outputs": [
    {
     "data": {
      "image/png": "[encoded data removed]",
      "text/plain": [
       "<matplotlib.figure.Figure at 0x102a12cf8>"
      ]
     },
     "metadata": {},
     "output_type": "display_data"
    }
   ],
   "source": [
    "import numpy as np\n",
    "import matplotlib.pyplot as plt\n",
    "\n",
    "import load_MNIST_data\n",
    "from hf_net import HopfNet\n",
    "\n",
    "# load data\n",
    "training_data, validation_data, test_data = load_MNIST_data.load_data_wrapper()\n",
    "training_data = list(training_data)\n",
    "test_data = list(test_data)\n",
    "\n",
    "# initiate a net\n",
    "h_net = HopfNet(784)\n",
    "\n",
    "# form memories\n",
    "memory_img_count = 3\n",
    "sample_list = np.random.permutation(len(training_data))\n",
    "\n",
    "for j in range(memory_img_count):\n",
    "    i = sample_list[j]\n",
    "    input_sample = training_data[i]\n",
    "    input_img = input_sample[0]\n",
    "\n",
    "    input_img[input_img < 0.5] = -1\n",
    "    input_img[input_img > 0.5] = 1\n",
    "\n",
    "    h_net.train(input_img)\n",
    "    \n",
    "# show the weight matrix\n",
    "plt.figure()\n",
    "plt.imshow(h_net.w)\n",
    "plt.colorbar()\n",
    "plt.show()"
   ]
  },
  {
   "cell_type": "code",
   "execution_count": 26,
   "metadata": {},
   "outputs": [
    {
     "ename": "IndexError",
     "evalue": "list index out of range",
     "output_type": "error",
     "traceback": [
      "\u001b[0;31m---------------------------------------------------------------------------\u001b[0m",
      "\u001b[0;31mIndexError\u001b[0m                                Traceback (most recent call last)",
      "\u001b[0;32m<ipython-input-26-f526f3c3e296>\u001b[0m in \u001b[0;36m<module>\u001b[0;34m()\u001b[0m\n\u001b[1;32m      6\u001b[0m \u001b[0;32mfor\u001b[0m \u001b[0mj\u001b[0m \u001b[0;32min\u001b[0m \u001b[0mrange\u001b[0m\u001b[0;34m(\u001b[0m\u001b[0mplot_n\u001b[0m\u001b[0;34m)\u001b[0m\u001b[0;34m:\u001b[0m\u001b[0;34m\u001b[0m\u001b[0m\n\u001b[1;32m      7\u001b[0m     \u001b[0mi\u001b[0m \u001b[0;34m=\u001b[0m \u001b[0msample_list\u001b[0m\u001b[0;34m[\u001b[0m\u001b[0mj\u001b[0m\u001b[0;34m]\u001b[0m\u001b[0;34m\u001b[0m\u001b[0m\n\u001b[0;32m----> 8\u001b[0;31m     \u001b[0mtest_in_sample\u001b[0m \u001b[0;34m=\u001b[0m \u001b[0mtest_data\u001b[0m\u001b[0;34m[\u001b[0m\u001b[0mi\u001b[0m\u001b[0;34m]\u001b[0m\u001b[0;34m\u001b[0m\u001b[0m\n\u001b[0m\u001b[1;32m      9\u001b[0m \u001b[0;34m\u001b[0m\u001b[0m\n\u001b[1;32m     10\u001b[0m     \u001b[0mtest_in_img\u001b[0m \u001b[0;34m=\u001b[0m \u001b[0mtest_in_sample\u001b[0m\u001b[0;34m[\u001b[0m\u001b[0;36m0\u001b[0m\u001b[0;34m]\u001b[0m\u001b[0;34m\u001b[0m\u001b[0m\n",
      "\u001b[0;31mIndexError\u001b[0m: list index out of range"
     ]
    }
   ],
   "source": [
    "# retrieve memory\n",
    "plot_n = 3\n",
    "sample_list = np.random.permutation(len(test_data))\n",
    "\n",
    "plt.figure()\n",
    "for j in range(plot_n):\n",
    "    i = sample_list[j]\n",
    "    test_in_sample = test_data[i]\n",
    "    \n",
    "    test_in_img = test_in_sample[0]\n",
    "    test_in_img[test_in_img < 0.5] = -1\n",
    "    test_in_img[test_in_img > 0.5] = 1\n",
    "    \n",
    "    # show the img\n",
    "    plt.subplot(2, plot_n, j+1)\n",
    "    plt.imshow(np.reshape(test_in_img, [28, 28]), cmap='Greys')\n",
    "    plt.tick_params(axis='both', which='both', bottom=0, left=0, labelbottom =0, labelleft=0)\n",
    "\n",
    "    # retrieve memory\n",
    "    test_out_img = h_net.retrieve(test_in_img)\n",
    "    plt.subplot(2, plot_n, j+1+plot_n)\n",
    "    plt.imshow(np.reshape(test_out_img, [28, 28]), cmap='Greys')\n",
    "    plt.tick_params(axis='both', which='both', bottom=0, left=0, labelbottom =0, labelleft=0)\n",
    "    \n",
    "plt.show()"
   ]
  },
  {
   "cell_type": "code",
   "execution_count": null,
   "metadata": {},
   "outputs": [],
   "source": []
  }
 ],
 "metadata": {
  "kernelspec": {
   "display_name": "Python 3",
   "language": "python",
   "name": "python3"
  },
  "language_info": {
   "codemirror_mode": {
    "name": "ipython",
    "version": 3
   },
   "file_extension": ".py",
   "mimetype": "text/x-python",
   "name": "python",
   "nbconvert_exporter": "python",
   "pygments_lexer": "ipython3",
   "version": "3.6.2"
  }
 },
 "nbformat": 4,
 "nbformat_minor": 2
}
