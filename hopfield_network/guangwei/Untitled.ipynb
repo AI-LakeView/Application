{
 "cells": [
  {
   "cell_type": "code",
   "execution_count": null,
   "metadata": {},
   "outputs": [],
   "source": [
    "# %load main.py\n",
    "import numpy as np\n",
    "import matplotlib.pyplot as plt\n",
    "\n",
    "import load_MNIST_data\n",
    "from hf_net import HopfNet\n",
    "\n",
    "# load data\n",
    "training_data, validation_data, test_data = load_MNIST_data.load_data_wrapper()\n",
    "training_data = list(training_data)\n",
    "test_data = list(test_data)\n",
    "\n",
    "# initiate a net\n",
    "h_net = HopfNet(784)\n",
    "\n",
    "# form memories\n",
    "memory_img_count = 60\n",
    "for i in range(memory_img_count):\n",
    "    print(i)\n",
    "    input_sample = training_data[i]\n",
    "    input_img = input_sample[0]\n",
    "\n",
    "    input_img[input_img < 0.5] = 0\n",
    "    input_img[input_img > 0.5] = 1\n",
    "\n",
    "    h_net.train(input_img)\n",
    "\n",
    "# retrieve memory\n",
    "test_in_sample = test_data[1]\n",
    "test_in_img = test_in_sample[0]\n",
    "\n",
    "test_in_img[test_in_img < 0.5] = 0\n",
    "test_in_img[test_in_img > 0.5] = 1\n",
    "\n",
    "test_out_img = h_net.retrieve(test_in_img)\n",
    "\n",
    "# show the img\n",
    "plt.figure(1)\n",
    "plt.imshow(np.reshape(test_in_img, [28, 28]), cmap='Greys')\n",
    "plt.show()\n",
    "\n",
    "#\n",
    "plt.figure(2)\n",
    "plt.imshow(np.reshape(test_out_img, [28, 28]), cmap='Greys')\n",
    "plt.show()"
   ]
  },
  {
   "cell_type": "code",
   "execution_count": null,
   "metadata": {},
   "outputs": [],
   "source": []
  },
  {
   "cell_type": "code",
   "execution_count": null,
   "metadata": {},
   "outputs": [],
   "source": []
  }
 ],
 "metadata": {
  "kernelspec": {
   "display_name": "Python 3",
   "language": "python",
   "name": "python3"
  },
  "language_info": {
   "codemirror_mode": {
    "name": "ipython",
    "version": 3
   },
   "file_extension": ".py",
   "mimetype": "text/x-python",
   "name": "python",
   "nbconvert_exporter": "python",
   "pygments_lexer": "ipython3",
   "version": "3.6.2"
  }
 },
 "nbformat": 4,
 "nbformat_minor": 2
}
