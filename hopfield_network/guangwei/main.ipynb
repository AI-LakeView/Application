{
 "cells": [
  {
   "cell_type": "code",
   "execution_count": 28,
   "metadata": {},
   "outputs": [
    {
     "data": {
      "image/png": "[encoded data removed]",
      "text/plain": [
       "<matplotlib.figure.Figure at 0x10a1466a0>"
      ]
     },
     "metadata": {},
     "output_type": "display_data"
    }
   ],
   "source": [
    "import numpy as np\n",
    "import matplotlib.pyplot as plt\n",
    "\n",
    "import load_MNIST_data\n",
    "from hf_net import HopfNet\n",
    "\n",
    "# load data\n",
    "training_data, validation_data, test_data = load_MNIST_data.load_data_wrapper()\n",
    "training_data = list(training_data)\n",
    "test_data = list(test_data)\n",
    "\n",
    "# initiate a net\n",
    "h_net = HopfNet(784)\n",
    "\n",
    "# form memories\n",
    "memory_img_count = 3\n",
    "sample_list = np.random.permutation(len(training_data))\n",
    "\n",
    "for j in range(memory_img_count):\n",
    "    i = sample_list[j]\n",
    "    input_sample = training_data[i]\n",
    "    input_img = input_sample[0]\n",
    "\n",
    "    input_img[input_img < 0.5] = -1\n",
    "    input_img[input_img > 0.5] = 1\n",
    "\n",
    "    h_net.train(input_img)\n",
    "    \n",
    "# show the weight matrix\n",
    "plt.figure()\n",
    "plt.imshow(h_net.w)\n",
    "plt.colorbar()\n",
    "plt.show()"
   ]
  },
  {
   "cell_type": "code",
   "execution_count": 29,
   "metadata": {},
   "outputs": [
    {
     "data": {
      "image/png": "[encoded data removed]",
      "text/plain": [
       "<matplotlib.figure.Figure at 0x10a141048>"
      ]
     },
     "metadata": {},
     "output_type": "display_data"
    }
   ],
   "source": [
    "# retrieve memory\n",
    "plot_n = 3\n",
    "sample_list = np.random.permutation(len(test_data))\n",
    "\n",
    "plt.figure()\n",
    "for j in range(plot_n):\n",
    "    i = sample_list[j]\n",
    "    test_in_sample = test_data[i]\n",
    "    \n",
    "    test_in_img = test_in_sample[0]\n",
    "    test_in_img[test_in_img < 0.5] = -1\n",
    "    test_in_img[test_in_img > 0.5] = 1\n",
    "    \n",
    "    # show the img\n",
    "    plt.subplot(2, plot_n, j+1)\n",
    "    plt.imshow(np.reshape(test_in_img, [28, 28]), cmap='Greys')\n",
    "    plt.tick_params(axis='both', which='both', bottom=0, left=0, labelbottom =0, labelleft=0)\n",
    "\n",
    "    # retrieve memory\n",
    "    test_out_img = h_net.retrieve(test_in_img)\n",
    "    plt.subplot(2, plot_n, j+1+plot_n)\n",
    "    plt.imshow(np.reshape(test_out_img, [28, 28]), cmap='Greys')\n",
    "    plt.tick_params(axis='both', which='both', bottom=0, left=0, labelbottom =0, labelleft=0)\n",
    "    \n",
    "plt.show()"
   ]
  },
  {
   "cell_type": "code",
   "execution_count": null,
   "metadata": {},
   "outputs": [],
   "source": []
  }
 ],
 "metadata": {
  "kernelspec": {
   "display_name": "Python 3",
   "language": "python",
   "name": "python3"
  },
  "language_info": {
   "codemirror_mode": {
    "name": "ipython",
    "version": 3
   },
   "file_extension": ".py",
   "mimetype": "text/x-python",
   "name": "python",
   "nbconvert_exporter": "python",
   "pygments_lexer": "ipython3",
   "version": "3.6.2"
  }
 },
 "nbformat": 4,
 "nbformat_minor": 2
}
