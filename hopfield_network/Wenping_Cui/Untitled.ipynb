{
 "cells": [
  {
   "cell_type": "code",
   "execution_count": 1,
   "metadata": {},
   "outputs": [
    {
     "name": "stdout",
     "output_type": "stream",
     "text": [
      "0\n",
      "1\n",
      "2\n",
      "3\n",
      "4\n",
      "5\n",
      "6\n",
      "7\n",
      "8\n",
      "9\n",
      "10\n",
      "11\n",
      "12\n",
      "13\n",
      "14\n",
      "15\n",
      "16\n",
      "17\n",
      "18\n",
      "19\n",
      "20\n",
      "21\n",
      "22\n",
      "23\n",
      "24\n",
      "25\n",
      "26\n",
      "27\n",
      "28\n",
      "29\n",
      "30\n",
      "31\n",
      "32\n",
      "33\n",
      "34\n",
      "35\n",
      "36\n",
      "37\n",
      "38\n",
      "39\n",
      "40\n",
      "41\n",
      "42\n",
      "43\n",
      "44\n",
      "45\n",
      "46\n",
      "47\n",
      "48\n",
      "49\n",
      "50\n",
      "51\n",
      "52\n",
      "53\n",
      "54\n",
      "55\n",
      "56\n",
      "57\n",
      "58\n",
      "59\n"
     ]
    },
    {
     "data": {
      "image/png": "[encoded data removed]",
      "text/plain": [
       "<matplotlib.figure.Figure at 0x106892e80>"
      ]
     },
     "metadata": {},
     "output_type": "display_data"
    },
    {
     "data": {
      "image/png": "[encoded data removed]",
      "text/plain": [
       "<matplotlib.figure.Figure at 0x104b00048>"
      ]
     },
     "metadata": {},
     "output_type": "display_data"
    }
   ],
   "source": [
    "# %load main.py\n",
    "import numpy as np\n",
    "import matplotlib.pyplot as plt\n",
    "\n",
    "import load_MNIST_data\n",
    "from hf_net import HopfNet\n",
    "\n",
    "# load data\n",
    "training_data, validation_data, test_data = load_MNIST_data.load_data_wrapper()\n",
    "training_data = list(training_data)\n",
    "test_data = list(test_data)\n",
    "\n",
    "# initiate a net\n",
    "h_net = HopfNet(784)\n",
    "\n",
    "# form memories\n",
    "memory_img_count = 60\n",
    "for i in range(memory_img_count):\n",
    "    print(i)\n",
    "    input_sample = training_data[i]\n",
    "    input_img = input_sample[0]\n",
    "\n",
    "    input_img[input_img < 0.5] = 0\n",
    "    input_img[input_img > 0.5] = 1\n",
    "\n",
    "    h_net.train(input_img)\n",
    "\n",
    "# retrieve memory\n",
    "test_in_sample = test_data[1]\n",
    "test_in_img = test_in_sample[0]\n",
    "\n",
    "test_in_img[test_in_img < 0.5] = 0\n",
    "test_in_img[test_in_img > 0.5] = 1\n",
    "\n",
    "test_out_img = h_net.retrieve(test_in_img)\n",
    "\n",
    "# show the img\n",
    "plt.figure(1)\n",
    "plt.imshow(np.reshape(test_in_img, [28, 28]), cmap='Greys')\n",
    "plt.show()\n",
    "\n",
    "#\n",
    "plt.figure(2)\n",
    "plt.imshow(np.reshape(test_out_img, [28, 28]), cmap='Greys')\n",
    "plt.show()"
   ]
  },
  {
   "cell_type": "code",
   "execution_count": 45,
   "metadata": {},
   "outputs": [
    {
     "data": {
      "image/png": "[encoded data removed]",
      "text/plain": [
       "<matplotlib.figure.Figure at 0x11bb2ccf8>"
      ]
     },
     "metadata": {},
     "output_type": "display_data"
    }
   ],
   "source": [
    "# retrieve memory\n",
    "plt.clf()\n",
    "plt.close()\n",
    "fig, axs = plt.subplots(2,10, figsize=(22, 6), facecolor='w', edgecolor='k')\n",
    "#fig.subplots_adjust(hspace = .5, wspace=.001)\n",
    "\n",
    "axs = axs.ravel()\n",
    "\n",
    "for i in range(10):\n",
    "    N=np.random.randint(0,10000-10,1)[0]\n",
    "    test_in_sample = test_data[i+N]\n",
    "    test_in_img = test_in_sample[0]\n",
    "    test_in_img[test_in_img < 0.5] = 0\n",
    "    test_in_img[test_in_img > 0.5] = 1\n",
    "    test_out_img = h_net.retrieve(test_in_img)\n",
    "    axs[i].imshow(np.reshape(test_in_img, [28, 28]), cmap='Greys')\n",
    "    axs[i+10].imshow(np.reshape(test_out_img, [28, 28]), cmap='Greys')\n",
    "    axs[i].set_title(str(test_in_sample[1]))\n",
    "\n",
    "# show the img\n",
    "plt.show()\n",
    "fig.savefig('result.png')"
   ]
  },
  {
   "cell_type": "code",
   "execution_count": 28,
   "metadata": {},
   "outputs": [
    {
     "name": "stdout",
     "output_type": "stream",
     "text": [
      "(10000, 2)\n",
      "(10000, 2)\n",
      "(10000, 2)\n",
      "(10000, 2)\n",
      "(10000, 2)\n",
      "(10000, 2)\n",
      "(10000, 2)\n",
      "(10000, 2)\n",
      "(10000, 2)\n",
      "(10000, 2)\n"
     ]
    }
   ],
   "source": [
    "for i in range(10):\n",
    "  print (np.asarray(test_data).shape)"
   ]
  },
  {
   "cell_type": "code",
   "execution_count": null,
   "metadata": {
    "collapsed": true
   },
   "outputs": [],
   "source": []
  }
 ],
 "metadata": {
  "anaconda-cloud": {},
  "kernelspec": {
   "display_name": "Python [conda env:py36]",
   "language": "python",
   "name": "conda-env-py36-py"
  },
  "language_info": {
   "codemirror_mode": {
    "name": "ipython",
    "version": 3
   },
   "file_extension": ".py",
   "mimetype": "text/x-python",
   "name": "python",
   "nbconvert_exporter": "python",
   "pygments_lexer": "ipython3",
   "version": "3.6.1"
  }
 },
 "nbformat": 4,
 "nbformat_minor": 2
}
